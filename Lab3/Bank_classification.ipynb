{
  "nbformat": 4,
  "nbformat_minor": 0,
  "metadata": {
    "colab": {
      "name": "Bank_classification",
      "provenance": [],
      "collapsed_sections": [],
      "authorship_tag": "ABX9TyPkDeyuL8MoTCQx4PVZ4QRq",
      "include_colab_link": true
    },
    "kernelspec": {
      "display_name": "Python 3",
      "name": "python3"
    }
  },
  "cells": [
    {
      "cell_type": "markdown",
      "metadata": {
        "id": "view-in-github",
        "colab_type": "text"
      },
      "source": [
        "<a href=\"https://colab.research.google.com/github/Knxd3/CE888/blob/main/Lab3/Bank_classification.ipynb\" target=\"_parent\"><img src=\"https://colab.research.google.com/assets/colab-badge.svg\" alt=\"Open In Colab\"/></a>"
      ]
    },
    {
      "cell_type": "code",
      "metadata": {
        "id": "IxD4QDeR-xc2"
      },
      "source": [
        "import pandas as pd\r\n",
        "import numpy as np\r\n",
        "import matplotlib.pyplot as plt\r\n",
        "import seaborn as sns\r\n",
        "import time \r\n",
        "from sklearn.tree import DecisionTreeRegressor\r\n",
        "from sklearn.ensemble import RandomForestClassifier, ExtraTreesClassifier\r\n",
        "from sklearn.model_selection import cross_val_score, train_test_split, GridSearchCV\r\n",
        "from sklearn.metrics import mean_squared_error as mse\r\n",
        "from sklearn.metrics import mean_absolute_error as mae\r\n",
        "from sklearn.metrics import f1_score as f1\r\n",
        "from sklearn.metrics import SCORERS\r\n",
        "from sklearn import metrics\r\n",
        "from sklearn.metrics import accuracy_score as acc\r\n",
        "from sklearn.metrics import make_scorer, confusion_matrix, scorer\r\n",
        "from sklearn.dummy import DummyRegressor, DummyClassifier\r\n",
        "from sklearn.preprocessing import LabelEncoder"
      ],
      "execution_count": 62,
      "outputs": []
    },
    {
      "cell_type": "code",
      "metadata": {
        "colab": {
          "base_uri": "https://localhost:8080/",
          "height": 204
        },
        "id": "7osSdUtG-50Z",
        "outputId": "cb9ebac1-cc52-401c-d3f4-51768d85fc4e"
      },
      "source": [
        "bank0 = pd.read_csv('https://raw.githubusercontent.com/albanda/CE888/master/lab3/bank-additional-full.csv', delimiter = ';')\r\n",
        "bank1 = bank0.copy()\r\n",
        "del bank1['duration']\r\n",
        "#bank1 = pd.get_dummies(bank1)\r\n",
        "features = bank1.columns[0:len(bank1.columns)-1]\r\n",
        "bank1.dropna(inplace=True)\r\n",
        "outcome = bank1.columns[len(bank1.columns)-1]\r\n",
        "bank1 = bank1.apply(LabelEncoder().fit_transform)\r\n",
        "\r\n",
        "bank1.head()"
      ],
      "execution_count": 63,
      "outputs": [
        {
          "output_type": "execute_result",
          "data": {
            "text/html": [
              "<div>\n",
              "<style scoped>\n",
              "    .dataframe tbody tr th:only-of-type {\n",
              "        vertical-align: middle;\n",
              "    }\n",
              "\n",
              "    .dataframe tbody tr th {\n",
              "        vertical-align: top;\n",
              "    }\n",
              "\n",
              "    .dataframe thead th {\n",
              "        text-align: right;\n",
              "    }\n",
              "</style>\n",
              "<table border=\"1\" class=\"dataframe\">\n",
              "  <thead>\n",
              "    <tr style=\"text-align: right;\">\n",
              "      <th></th>\n",
              "      <th>age</th>\n",
              "      <th>job</th>\n",
              "      <th>marital</th>\n",
              "      <th>education</th>\n",
              "      <th>default</th>\n",
              "      <th>housing</th>\n",
              "      <th>loan</th>\n",
              "      <th>contact</th>\n",
              "      <th>month</th>\n",
              "      <th>day_of_week</th>\n",
              "      <th>campaign</th>\n",
              "      <th>pdays</th>\n",
              "      <th>previous</th>\n",
              "      <th>poutcome</th>\n",
              "      <th>emp.var.rate</th>\n",
              "      <th>cons.price.idx</th>\n",
              "      <th>cons.conf.idx</th>\n",
              "      <th>euribor3m</th>\n",
              "      <th>nr.employed</th>\n",
              "      <th>y</th>\n",
              "    </tr>\n",
              "  </thead>\n",
              "  <tbody>\n",
              "    <tr>\n",
              "      <th>0</th>\n",
              "      <td>39</td>\n",
              "      <td>3</td>\n",
              "      <td>1</td>\n",
              "      <td>0</td>\n",
              "      <td>0</td>\n",
              "      <td>0</td>\n",
              "      <td>0</td>\n",
              "      <td>1</td>\n",
              "      <td>6</td>\n",
              "      <td>1</td>\n",
              "      <td>0</td>\n",
              "      <td>26</td>\n",
              "      <td>0</td>\n",
              "      <td>1</td>\n",
              "      <td>8</td>\n",
              "      <td>18</td>\n",
              "      <td>16</td>\n",
              "      <td>287</td>\n",
              "      <td>8</td>\n",
              "      <td>0</td>\n",
              "    </tr>\n",
              "    <tr>\n",
              "      <th>1</th>\n",
              "      <td>40</td>\n",
              "      <td>7</td>\n",
              "      <td>1</td>\n",
              "      <td>3</td>\n",
              "      <td>1</td>\n",
              "      <td>0</td>\n",
              "      <td>0</td>\n",
              "      <td>1</td>\n",
              "      <td>6</td>\n",
              "      <td>1</td>\n",
              "      <td>0</td>\n",
              "      <td>26</td>\n",
              "      <td>0</td>\n",
              "      <td>1</td>\n",
              "      <td>8</td>\n",
              "      <td>18</td>\n",
              "      <td>16</td>\n",
              "      <td>287</td>\n",
              "      <td>8</td>\n",
              "      <td>0</td>\n",
              "    </tr>\n",
              "    <tr>\n",
              "      <th>2</th>\n",
              "      <td>20</td>\n",
              "      <td>7</td>\n",
              "      <td>1</td>\n",
              "      <td>3</td>\n",
              "      <td>0</td>\n",
              "      <td>2</td>\n",
              "      <td>0</td>\n",
              "      <td>1</td>\n",
              "      <td>6</td>\n",
              "      <td>1</td>\n",
              "      <td>0</td>\n",
              "      <td>26</td>\n",
              "      <td>0</td>\n",
              "      <td>1</td>\n",
              "      <td>8</td>\n",
              "      <td>18</td>\n",
              "      <td>16</td>\n",
              "      <td>287</td>\n",
              "      <td>8</td>\n",
              "      <td>0</td>\n",
              "    </tr>\n",
              "    <tr>\n",
              "      <th>3</th>\n",
              "      <td>23</td>\n",
              "      <td>0</td>\n",
              "      <td>1</td>\n",
              "      <td>1</td>\n",
              "      <td>0</td>\n",
              "      <td>0</td>\n",
              "      <td>0</td>\n",
              "      <td>1</td>\n",
              "      <td>6</td>\n",
              "      <td>1</td>\n",
              "      <td>0</td>\n",
              "      <td>26</td>\n",
              "      <td>0</td>\n",
              "      <td>1</td>\n",
              "      <td>8</td>\n",
              "      <td>18</td>\n",
              "      <td>16</td>\n",
              "      <td>287</td>\n",
              "      <td>8</td>\n",
              "      <td>0</td>\n",
              "    </tr>\n",
              "    <tr>\n",
              "      <th>4</th>\n",
              "      <td>39</td>\n",
              "      <td>7</td>\n",
              "      <td>1</td>\n",
              "      <td>3</td>\n",
              "      <td>0</td>\n",
              "      <td>0</td>\n",
              "      <td>2</td>\n",
              "      <td>1</td>\n",
              "      <td>6</td>\n",
              "      <td>1</td>\n",
              "      <td>0</td>\n",
              "      <td>26</td>\n",
              "      <td>0</td>\n",
              "      <td>1</td>\n",
              "      <td>8</td>\n",
              "      <td>18</td>\n",
              "      <td>16</td>\n",
              "      <td>287</td>\n",
              "      <td>8</td>\n",
              "      <td>0</td>\n",
              "    </tr>\n",
              "  </tbody>\n",
              "</table>\n",
              "</div>"
            ],
            "text/plain": [
              "   age  job  marital  education  ...  cons.conf.idx  euribor3m  nr.employed  y\n",
              "0   39    3        1          0  ...             16        287            8  0\n",
              "1   40    7        1          3  ...             16        287            8  0\n",
              "2   20    7        1          3  ...             16        287            8  0\n",
              "3   23    0        1          1  ...             16        287            8  0\n",
              "4   39    7        1          3  ...             16        287            8  0\n",
              "\n",
              "[5 rows x 20 columns]"
            ]
          },
          "metadata": {
            "tags": []
          },
          "execution_count": 63
        }
      ]
    },
    {
      "cell_type": "code",
      "metadata": {
        "colab": {
          "base_uri": "https://localhost:8080/",
          "height": 350
        },
        "id": "M-9XEohv-7iZ",
        "outputId": "052903ac-2d2d-4128-c8d7-d4d69c407fcf"
      },
      "source": [
        "#imbalance\r\n",
        "sns.countplot(bank1['y'])\r\n",
        "\r\n",
        "imb = bank1['y'].value_counts()\r\n",
        "print ('ratio yes to no: ', round(imb[1]/(imb[0]+imb[1])*100,2))"
      ],
      "execution_count": 64,
      "outputs": [
        {
          "output_type": "stream",
          "text": [
            "ratio yes to no:  11.27\n"
          ],
          "name": "stdout"
        },
        {
          "output_type": "stream",
          "text": [
            "/usr/local/lib/python3.7/dist-packages/seaborn/_decorators.py:43: FutureWarning: Pass the following variable as a keyword arg: x. From version 0.12, the only valid positional argument will be `data`, and passing other arguments without an explicit keyword will result in an error or misinterpretation.\n",
            "  FutureWarning\n"
          ],
          "name": "stderr"
        },
        {
          "output_type": "display_data",
          "data": {
            "image/png": "[encoded data removed]",
            "text/plain": [
              "<Figure size 432x288 with 1 Axes>"
            ]
          },
          "metadata": {
            "tags": [],
            "needs_background": "light"
          }
        }
      ]
    },
    {
      "cell_type": "code",
      "metadata": {
        "colab": {
          "base_uri": "https://localhost:8080/"
        },
        "id": "muNzz9m7--F3",
        "outputId": "5c1299c0-938e-4ac1-db39-d77737817c23"
      },
      "source": [
        "X_train, X_test, y_train, y_test = train_test_split(bank1.loc[0:, features], bank1[outcome], test_size = 0.2, random_state = 50, stratify = bank1[outcome])\r\n",
        "\r\n",
        "k=0\r\n",
        "\r\n",
        "for key in y_train:\r\n",
        "  if key == 1 or key == '1':\r\n",
        "    k=k+1\r\n",
        "# print(k)\r\n",
        "print(k/len(y_train))\r\n",
        "\r\n",
        "k=0\r\n",
        "\r\n",
        "for key in y_test:\r\n",
        "  if key == 1 or key == '1':\r\n",
        "    k=k+1\r\n",
        "# k\r\n",
        "k/len(y_test)\r\n",
        "\r\n"
      ],
      "execution_count": 65,
      "outputs": [
        {
          "output_type": "stream",
          "text": [
            "0.11265553869499241\n"
          ],
          "name": "stdout"
        },
        {
          "output_type": "execute_result",
          "data": {
            "text/plain": [
              "0.11264870114105366"
            ]
          },
          "metadata": {
            "tags": []
          },
          "execution_count": 65
        }
      ]
    },
    {
      "cell_type": "markdown",
      "metadata": {
        "id": "NFiCj1wJp5Tp"
      },
      "source": [
        "Training/test split error, no parameter tuning"
      ]
    },
    {
      "cell_type": "code",
      "metadata": {
        "colab": {
          "base_uri": "https://localhost:8080/"
        },
        "id": "9nJRwXhM_BEH",
        "outputId": "d70e06fa-e3b9-4f7b-c755-a6a6133c7017"
      },
      "source": [
        "model = RandomForestClassifier(n_estimators = 100, max_depth = 3)\r\n",
        "\r\n",
        "model.fit(X_train, y_train)\r\n",
        "\r\n",
        "metrics.f1_score(y_test, model.predict(X_test))\r\n"
      ],
      "execution_count": 5,
      "outputs": [
        {
          "output_type": "execute_result",
          "data": {
            "text/plain": [
              "0.2995744680851064"
            ]
          },
          "metadata": {
            "tags": []
          },
          "execution_count": 5
        }
      ]
    },
    {
      "cell_type": "markdown",
      "metadata": {
        "id": "reCHyGEJq86Q"
      },
      "source": [
        "Cross validated model"
      ]
    },
    {
      "cell_type": "code",
      "metadata": {
        "colab": {
          "base_uri": "https://localhost:8080/"
        },
        "id": "B0AbnCyUq_kA",
        "outputId": "07073c7f-dd5a-4c52-8cbd-fe64bebc6745"
      },
      "source": [
        "model = RandomForestClassifier(n_estimators = 100, max_depth = 3)\r\n",
        "\r\n",
        "scores = cross_val_score(model, X_train, y = y_train, scoring = make_scorer(metrics.f1_score), cv=10)\r\n",
        "\r\n",
        "scores"
      ],
      "execution_count": 6,
      "outputs": [
        {
          "output_type": "execute_result",
          "data": {
            "text/plain": [
              "array([0.24070022, 0.30603448, 0.24      , 0.2832244 , 0.23451327,\n",
              "       0.2987013 , 0.37938144, 0.25550661, 0.25991189, 0.26349892])"
            ]
          },
          "metadata": {
            "tags": []
          },
          "execution_count": 6
        }
      ]
    },
    {
      "cell_type": "markdown",
      "metadata": {
        "id": "zRd_98DcxiHp"
      },
      "source": [
        "Compared to dummy"
      ]
    },
    {
      "cell_type": "code",
      "metadata": {
        "colab": {
          "base_uri": "https://localhost:8080/"
        },
        "id": "pS5_xoKLet2X",
        "outputId": "1295dd4b-0b45-4767-f65f-76ae6dff6497"
      },
      "source": [
        "dummy = DummyClassifier(strategy='stratified')\r\n",
        "\r\n",
        "dummy.fit(X_train, y_train)\r\n",
        "\r\n",
        "dummy_results = dummy.predict(X_test)\r\n",
        "\r\n",
        "print(f1(y_test,dummy_results))\r\n",
        "\r\n",
        "scores.mean()"
      ],
      "execution_count": 7,
      "outputs": [
        {
          "output_type": "stream",
          "text": [
            "0.10853530031612225\n"
          ],
          "name": "stdout"
        },
        {
          "output_type": "execute_result",
          "data": {
            "text/plain": [
              "0.27614725410740487"
            ]
          },
          "metadata": {
            "tags": []
          },
          "execution_count": 7
        }
      ]
    },
    {
      "cell_type": "markdown",
      "metadata": {
        "id": "9rluQQKfdw-m"
      },
      "source": [
        "Finding best parameters"
      ]
    },
    {
      "cell_type": "code",
      "metadata": {
        "id": "SVC4C_oRpkWq"
      },
      "source": [
        "# start = time.time()\r\n",
        "# params = {'n_estimators': [x for x in range(100, 1001, 100)],\r\n",
        "#           'max_depth': [x for x in range(6,18)]}\r\n",
        "# gr_model = GridSearchCV(RandomForestClassifier(), params, cv=10, n_jobs = -1, scoring = make_scorer(metrics.f1_score))\r\n",
        "\r\n",
        "# gr_model.fit(X_train, y_train)\r\n",
        "# end = time.time()\r\n",
        "\r\n",
        "# print(end-start)\r\n",
        "\r\n",
        "# 2268.2770524024963\r\n",
        "\r\n",
        "# gr_model.best_estimator_\r\n",
        "\r\n",
        "# RandomForestClassifier(max_depth=17, n_estimators=700)\r\n",
        "\r\n",
        "# gr_model\r\n",
        "\r\n",
        "# GridSearchCV(cv=10, estimator=RandomForestClassifier(), n_jobs=-1,\r\n",
        "#              param_grid={'max_depth': [6, 7, 8, 9, 10, 11, 12, 13, 14, 15, 16,\r\n",
        "#                                        17],\r\n",
        "#                          'n_estimators': [100, 200, 300, 400, 500, 600, 700,\r\n",
        "#                                           800, 900, 1000]},\r\n",
        "#              scoring=make_scorer(f1_score))"
      ],
      "execution_count": 8,
      "outputs": []
    },
    {
      "cell_type": "markdown",
      "metadata": {
        "id": "xlnXxCbcjAix"
      },
      "source": [
        "Fitting and feature importances"
      ]
    },
    {
      "cell_type": "code",
      "metadata": {
        "id": "cvdS-LqiqA1o",
        "colab": {
          "base_uri": "https://localhost:8080/"
        },
        "outputId": "c029cb1f-2846-4b13-9dbc-7056e30dc485"
      },
      "source": [
        "gr_model = RandomForestClassifier(n_estimators = 200, max_depth = 12)\r\n",
        "gr_model.fit(X_train, y_train)\r\n",
        "\r\n",
        "importances = gr_model.feature_importances_\r\n",
        "indices = np.argsort(importances)[::-1]\r\n",
        "\r\n",
        "bank1.columns[indices[0:3]]"
      ],
      "execution_count": 83,
      "outputs": [
        {
          "output_type": "execute_result",
          "data": {
            "text/plain": [
              "Index(['euribor3m', 'nr.employed', 'pdays'], dtype='object')"
            ]
          },
          "metadata": {
            "tags": []
          },
          "execution_count": 83
        }
      ]
    },
    {
      "cell_type": "markdown",
      "metadata": {
        "id": "Xn4G_UE2jESu"
      },
      "source": [
        "Generalisation error"
      ]
    },
    {
      "cell_type": "code",
      "metadata": {
        "id": "5LggvJBhqT4H",
        "colab": {
          "base_uri": "https://localhost:8080/"
        },
        "outputId": "d66528e4-f500-42fe-c6fe-aad450af9d56"
      },
      "source": [
        "scores = gr_model.predict(X_test)\r\n",
        "\r\n",
        "metrics.f1_score(y_test, scores)"
      ],
      "execution_count": 10,
      "outputs": [
        {
          "output_type": "execute_result",
          "data": {
            "text/plain": [
              "0.3982808022922636"
            ]
          },
          "metadata": {
            "tags": []
          },
          "execution_count": 10
        }
      ]
    },
    {
      "cell_type": "markdown",
      "metadata": {
        "id": "-7Qj7AR24B8B"
      },
      "source": [
        "Lab Quiz"
      ]
    },
    {
      "cell_type": "code",
      "metadata": {
        "colab": {
          "base_uri": "https://localhost:8080/"
        },
        "id": "fjPkSqSq4DvW",
        "outputId": "3b1123da-c46d-4e05-f418-9ca0cd37cf24"
      },
      "source": [
        "len(bank1.columns)\r\n",
        "\r\n",
        "bank0.shape\r\n",
        "\r\n",
        "bank0.dropna()\r\n",
        "\r\n",
        "bank0.shape\r\n",
        "\r\n",
        "metrics.SCORERS.keys()"
      ],
      "execution_count": 11,
      "outputs": [
        {
          "output_type": "execute_result",
          "data": {
            "text/plain": [
              "dict_keys(['explained_variance', 'r2', 'max_error', 'neg_median_absolute_error', 'neg_mean_absolute_error', 'neg_mean_squared_error', 'neg_mean_squared_log_error', 'neg_root_mean_squared_error', 'neg_mean_poisson_deviance', 'neg_mean_gamma_deviance', 'accuracy', 'roc_auc', 'roc_auc_ovr', 'roc_auc_ovo', 'roc_auc_ovr_weighted', 'roc_auc_ovo_weighted', 'balanced_accuracy', 'average_precision', 'neg_log_loss', 'neg_brier_score', 'adjusted_rand_score', 'homogeneity_score', 'completeness_score', 'v_measure_score', 'mutual_info_score', 'adjusted_mutual_info_score', 'normalized_mutual_info_score', 'fowlkes_mallows_score', 'precision', 'precision_macro', 'precision_micro', 'precision_samples', 'precision_weighted', 'recall', 'recall_macro', 'recall_micro', 'recall_samples', 'recall_weighted', 'f1', 'f1_macro', 'f1_micro', 'f1_samples', 'f1_weighted', 'jaccard', 'jaccard_macro', 'jaccard_micro', 'jaccard_samples', 'jaccard_weighted'])"
            ]
          },
          "metadata": {
            "tags": []
          },
          "execution_count": 11
        }
      ]
    },
    {
      "cell_type": "code",
      "metadata": {
        "colab": {
          "base_uri": "https://localhost:8080/"
        },
        "id": "GbPOsXpW44Me",
        "outputId": "5343610d-dbf3-4c90-e102-a57fa472bfc5"
      },
      "source": [
        "X_train, X_test, y_train, y_test = train_test_split(bank1.loc[0:, features], bank1[outcome], test_size = 0.2, random_state = 50)\r\n",
        "\r\n",
        "model = RandomForestClassifier(n_estimators = 200, max_depth = 8)\r\n",
        "\r\n",
        "scores = cross_val_score(model, X_train, y_train, cv = 10, n_jobs=-1, scoring = make_scorer(f1))\r\n",
        "\r\n",
        "print(scores)\r\n",
        "\r\n",
        "round(scores.mean(),2)"
      ],
      "execution_count": 81,
      "outputs": [
        {
          "output_type": "stream",
          "text": [
            "[0.34583333 0.30737705 0.34710744 0.34693878 0.32220039 0.32786885\n",
            " 0.33402923 0.3499006  0.31422505 0.33954451]\n"
          ],
          "name": "stdout"
        },
        {
          "output_type": "execute_result",
          "data": {
            "text/plain": [
              "0.33"
            ]
          },
          "metadata": {
            "tags": []
          },
          "execution_count": 81
        }
      ]
    },
    {
      "cell_type": "code",
      "metadata": {
        "colab": {
          "base_uri": "https://localhost:8080/"
        },
        "id": "Rh1sYwvU62Ky",
        "outputId": "b064a280-234e-4450-9333-0127ff4f25ae"
      },
      "source": [
        "model = RandomForestClassifier(n_estimators = 250, max_depth = 6)\r\n",
        "\r\n",
        "scores = cross_val_score(model, X_train, y_train, cv = 10, n_jobs=-1, scoring = make_scorer(f1))\r\n",
        "\r\n",
        "round(scores.mean(),2)"
      ],
      "execution_count": 82,
      "outputs": [
        {
          "output_type": "execute_result",
          "data": {
            "text/plain": [
              "0.31"
            ]
          },
          "metadata": {
            "tags": []
          },
          "execution_count": 82
        }
      ]
    },
    {
      "cell_type": "code",
      "metadata": {
        "colab": {
          "base_uri": "https://localhost:8080/"
        },
        "id": "sHQXaaDD7g7R",
        "outputId": "5bb3b532-44ab-411f-8cd6-b98a79e94d3a"
      },
      "source": [
        "model = RandomForestClassifier(n_estimators = 200, max_depth = 10, random_state = 60)\r\n",
        "\r\n",
        "model.fit(X_train, y_train)\r\n",
        "\r\n",
        "scores = model.predict(X_test)\r\n",
        "\r\n",
        "round(f1(y_test, scores),2)"
      ],
      "execution_count": 80,
      "outputs": [
        {
          "output_type": "execute_result",
          "data": {
            "text/plain": [
              "0.36"
            ]
          },
          "metadata": {
            "tags": []
          },
          "execution_count": 80
        }
      ]
    },
    {
      "cell_type": "code",
      "metadata": {
        "colab": {
          "base_uri": "https://localhost:8080/",
          "height": 204
        },
        "id": "VqqfmuLhG5ai",
        "outputId": "3965a2ee-b550-49a1-bc3c-b77eb79b75c9"
      },
      "source": [
        "X_train.head()"
      ],
      "execution_count": 76,
      "outputs": [
        {
          "output_type": "execute_result",
          "data": {
            "text/html": [
              "<div>\n",
              "<style scoped>\n",
              "    .dataframe tbody tr th:only-of-type {\n",
              "        vertical-align: middle;\n",
              "    }\n",
              "\n",
              "    .dataframe tbody tr th {\n",
              "        vertical-align: top;\n",
              "    }\n",
              "\n",
              "    .dataframe thead th {\n",
              "        text-align: right;\n",
              "    }\n",
              "</style>\n",
              "<table border=\"1\" class=\"dataframe\">\n",
              "  <thead>\n",
              "    <tr style=\"text-align: right;\">\n",
              "      <th></th>\n",
              "      <th>age</th>\n",
              "      <th>job</th>\n",
              "      <th>marital</th>\n",
              "      <th>education</th>\n",
              "      <th>default</th>\n",
              "      <th>housing</th>\n",
              "      <th>loan</th>\n",
              "      <th>contact</th>\n",
              "      <th>month</th>\n",
              "      <th>day_of_week</th>\n",
              "      <th>campaign</th>\n",
              "      <th>pdays</th>\n",
              "      <th>previous</th>\n",
              "      <th>poutcome</th>\n",
              "      <th>emp.var.rate</th>\n",
              "      <th>cons.price.idx</th>\n",
              "      <th>cons.conf.idx</th>\n",
              "      <th>euribor3m</th>\n",
              "      <th>nr.employed</th>\n",
              "    </tr>\n",
              "  </thead>\n",
              "  <tbody>\n",
              "    <tr>\n",
              "      <th>33479</th>\n",
              "      <td>15</td>\n",
              "      <td>1</td>\n",
              "      <td>1</td>\n",
              "      <td>2</td>\n",
              "      <td>1</td>\n",
              "      <td>0</td>\n",
              "      <td>0</td>\n",
              "      <td>0</td>\n",
              "      <td>6</td>\n",
              "      <td>3</td>\n",
              "      <td>1</td>\n",
              "      <td>26</td>\n",
              "      <td>0</td>\n",
              "      <td>1</td>\n",
              "      <td>3</td>\n",
              "      <td>8</td>\n",
              "      <td>4</td>\n",
              "      <td>209</td>\n",
              "      <td>6</td>\n",
              "    </tr>\n",
              "    <tr>\n",
              "      <th>36397</th>\n",
              "      <td>14</td>\n",
              "      <td>4</td>\n",
              "      <td>1</td>\n",
              "      <td>6</td>\n",
              "      <td>0</td>\n",
              "      <td>0</td>\n",
              "      <td>0</td>\n",
              "      <td>0</td>\n",
              "      <td>4</td>\n",
              "      <td>3</td>\n",
              "      <td>0</td>\n",
              "      <td>26</td>\n",
              "      <td>0</td>\n",
              "      <td>1</td>\n",
              "      <td>2</td>\n",
              "      <td>9</td>\n",
              "      <td>9</td>\n",
              "      <td>202</td>\n",
              "      <td>5</td>\n",
              "    </tr>\n",
              "    <tr>\n",
              "      <th>10925</th>\n",
              "      <td>11</td>\n",
              "      <td>4</td>\n",
              "      <td>2</td>\n",
              "      <td>2</td>\n",
              "      <td>0</td>\n",
              "      <td>0</td>\n",
              "      <td>0</td>\n",
              "      <td>1</td>\n",
              "      <td>4</td>\n",
              "      <td>4</td>\n",
              "      <td>1</td>\n",
              "      <td>26</td>\n",
              "      <td>0</td>\n",
              "      <td>1</td>\n",
              "      <td>9</td>\n",
              "      <td>23</td>\n",
              "      <td>8</td>\n",
              "      <td>306</td>\n",
              "      <td>10</td>\n",
              "    </tr>\n",
              "    <tr>\n",
              "      <th>8877</th>\n",
              "      <td>24</td>\n",
              "      <td>4</td>\n",
              "      <td>1</td>\n",
              "      <td>6</td>\n",
              "      <td>0</td>\n",
              "      <td>0</td>\n",
              "      <td>0</td>\n",
              "      <td>1</td>\n",
              "      <td>4</td>\n",
              "      <td>2</td>\n",
              "      <td>0</td>\n",
              "      <td>26</td>\n",
              "      <td>0</td>\n",
              "      <td>1</td>\n",
              "      <td>9</td>\n",
              "      <td>23</td>\n",
              "      <td>8</td>\n",
              "      <td>293</td>\n",
              "      <td>10</td>\n",
              "    </tr>\n",
              "    <tr>\n",
              "      <th>32199</th>\n",
              "      <td>27</td>\n",
              "      <td>7</td>\n",
              "      <td>2</td>\n",
              "      <td>3</td>\n",
              "      <td>0</td>\n",
              "      <td>0</td>\n",
              "      <td>0</td>\n",
              "      <td>0</td>\n",
              "      <td>6</td>\n",
              "      <td>0</td>\n",
              "      <td>0</td>\n",
              "      <td>26</td>\n",
              "      <td>1</td>\n",
              "      <td>0</td>\n",
              "      <td>3</td>\n",
              "      <td>8</td>\n",
              "      <td>4</td>\n",
              "      <td>211</td>\n",
              "      <td>6</td>\n",
              "    </tr>\n",
              "  </tbody>\n",
              "</table>\n",
              "</div>"
            ],
            "text/plain": [
              "       age  job  marital  ...  cons.conf.idx  euribor3m  nr.employed\n",
              "33479   15    1        1  ...              4        209            6\n",
              "36397   14    4        1  ...              9        202            5\n",
              "10925   11    4        2  ...              8        306           10\n",
              "8877    24    4        1  ...              8        293           10\n",
              "32199   27    7        2  ...              4        211            6\n",
              "\n",
              "[5 rows x 19 columns]"
            ]
          },
          "metadata": {
            "tags": []
          },
          "execution_count": 76
        }
      ]
    }
  ]
}