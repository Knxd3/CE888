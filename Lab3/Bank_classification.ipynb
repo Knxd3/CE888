{
  "nbformat": 4,
  "nbformat_minor": 0,
  "metadata": {
    "colab": {
      "name": "Bank_classification.ipynb",
      "provenance": [],
      "collapsed_sections": [],
      "authorship_tag": "ABX9TyPuJyCIVPADKFS9XzyeE0ue",
      "include_colab_link": true
    },
    "kernelspec": {
      "name": "python3",
      "display_name": "Python 3"
    }
  },
  "cells": [
    {
      "cell_type": "markdown",
      "metadata": {
        "id": "view-in-github",
        "colab_type": "text"
      },
      "source": [
        "<a href=\"https://colab.research.google.com/github/Knxd3/CE888/blob/main/Lab3/Bank_classification.ipynb\" target=\"_parent\"><img src=\"https://colab.research.google.com/assets/colab-badge.svg\" alt=\"Open In Colab\"/></a>"
      ]
    },
    {
      "cell_type": "code",
      "metadata": {
        "id": "xgd2nAIJ3hBZ"
      },
      "source": [
        "import pandas as pd\r\n",
        "import numpy as np\r\n",
        "import matplotlib.pyplot as plt\r\n",
        "import seaborn as sns\r\n",
        "\r\n",
        "from sklearn.tree import DecisionTreeRegressor\r\n",
        "from sklearn.ensemble import RandomForestClassifier, ExtraTreesClassifier\r\n",
        "from sklearn.model_selection import cross_val_score, train_test_split\r\n",
        "from sklearn.metrics import mean_squared_error as mse\r\n",
        "from sklearn.metrics import mean_absolute_error as mae\r\n",
        "from sklearn.metrics import f1_score as f1\r\n",
        "from sklearn.metrics import accuracy_score as acc\r\n",
        "from sklearn.metrics import make_scorer, confusion_matrix\r\n",
        "from sklearn.dummy import DummyRegressor, DummyClassifier\r\n",
        "from sklearn.preprocessing import LabelEncoder\r\n"
      ],
      "execution_count": 11,
      "outputs": []
    },
    {
      "cell_type": "code",
      "metadata": {
        "id": "D_Koe-rh4mxh",
        "colab": {
          "base_uri": "https://localhost:8080/",
          "height": 224
        },
        "outputId": "8bd62db4-b8cf-4c28-b0bb-34218cac71f6"
      },
      "source": [
        "bank0 = pd.read_csv('bank-additional-full.csv', delimiter = ';')\r\n",
        "bank1 = bank0.copy()\r\n",
        "bank1.dropna()\r\n",
        "\r\n",
        "del bank1['duration']\r\n",
        "features = bank1.columns[0:len(bank1.columns)-1]\r\n",
        "bank1.dropna()\r\n",
        "outcome = bank1.columns[len(bank1.columns)-1]\r\n",
        "bank1 = bank1.apply(LabelEncoder().fit_transform)\r\n",
        "\r\n",
        "bank1.head()"
      ],
      "execution_count": 12,
      "outputs": [
        {
          "output_type": "execute_result",
          "data": {
            "text/html": [
              "<div>\n",
              "<style scoped>\n",
              "    .dataframe tbody tr th:only-of-type {\n",
              "        vertical-align: middle;\n",
              "    }\n",
              "\n",
              "    .dataframe tbody tr th {\n",
              "        vertical-align: top;\n",
              "    }\n",
              "\n",
              "    .dataframe thead th {\n",
              "        text-align: right;\n",
              "    }\n",
              "</style>\n",
              "<table border=\"1\" class=\"dataframe\">\n",
              "  <thead>\n",
              "    <tr style=\"text-align: right;\">\n",
              "      <th></th>\n",
              "      <th>age</th>\n",
              "      <th>job</th>\n",
              "      <th>marital</th>\n",
              "      <th>education</th>\n",
              "      <th>default</th>\n",
              "      <th>housing</th>\n",
              "      <th>loan</th>\n",
              "      <th>contact</th>\n",
              "      <th>month</th>\n",
              "      <th>day_of_week</th>\n",
              "      <th>campaign</th>\n",
              "      <th>pdays</th>\n",
              "      <th>previous</th>\n",
              "      <th>poutcome</th>\n",
              "      <th>emp.var.rate</th>\n",
              "      <th>cons.price.idx</th>\n",
              "      <th>cons.conf.idx</th>\n",
              "      <th>euribor3m</th>\n",
              "      <th>nr.employed</th>\n",
              "      <th>y</th>\n",
              "    </tr>\n",
              "  </thead>\n",
              "  <tbody>\n",
              "    <tr>\n",
              "      <th>0</th>\n",
              "      <td>39</td>\n",
              "      <td>3</td>\n",
              "      <td>1</td>\n",
              "      <td>0</td>\n",
              "      <td>0</td>\n",
              "      <td>0</td>\n",
              "      <td>0</td>\n",
              "      <td>1</td>\n",
              "      <td>6</td>\n",
              "      <td>1</td>\n",
              "      <td>0</td>\n",
              "      <td>26</td>\n",
              "      <td>0</td>\n",
              "      <td>1</td>\n",
              "      <td>8</td>\n",
              "      <td>18</td>\n",
              "      <td>16</td>\n",
              "      <td>287</td>\n",
              "      <td>8</td>\n",
              "      <td>0</td>\n",
              "    </tr>\n",
              "    <tr>\n",
              "      <th>1</th>\n",
              "      <td>40</td>\n",
              "      <td>7</td>\n",
              "      <td>1</td>\n",
              "      <td>3</td>\n",
              "      <td>1</td>\n",
              "      <td>0</td>\n",
              "      <td>0</td>\n",
              "      <td>1</td>\n",
              "      <td>6</td>\n",
              "      <td>1</td>\n",
              "      <td>0</td>\n",
              "      <td>26</td>\n",
              "      <td>0</td>\n",
              "      <td>1</td>\n",
              "      <td>8</td>\n",
              "      <td>18</td>\n",
              "      <td>16</td>\n",
              "      <td>287</td>\n",
              "      <td>8</td>\n",
              "      <td>0</td>\n",
              "    </tr>\n",
              "    <tr>\n",
              "      <th>2</th>\n",
              "      <td>20</td>\n",
              "      <td>7</td>\n",
              "      <td>1</td>\n",
              "      <td>3</td>\n",
              "      <td>0</td>\n",
              "      <td>2</td>\n",
              "      <td>0</td>\n",
              "      <td>1</td>\n",
              "      <td>6</td>\n",
              "      <td>1</td>\n",
              "      <td>0</td>\n",
              "      <td>26</td>\n",
              "      <td>0</td>\n",
              "      <td>1</td>\n",
              "      <td>8</td>\n",
              "      <td>18</td>\n",
              "      <td>16</td>\n",
              "      <td>287</td>\n",
              "      <td>8</td>\n",
              "      <td>0</td>\n",
              "    </tr>\n",
              "    <tr>\n",
              "      <th>3</th>\n",
              "      <td>23</td>\n",
              "      <td>0</td>\n",
              "      <td>1</td>\n",
              "      <td>1</td>\n",
              "      <td>0</td>\n",
              "      <td>0</td>\n",
              "      <td>0</td>\n",
              "      <td>1</td>\n",
              "      <td>6</td>\n",
              "      <td>1</td>\n",
              "      <td>0</td>\n",
              "      <td>26</td>\n",
              "      <td>0</td>\n",
              "      <td>1</td>\n",
              "      <td>8</td>\n",
              "      <td>18</td>\n",
              "      <td>16</td>\n",
              "      <td>287</td>\n",
              "      <td>8</td>\n",
              "      <td>0</td>\n",
              "    </tr>\n",
              "    <tr>\n",
              "      <th>4</th>\n",
              "      <td>39</td>\n",
              "      <td>7</td>\n",
              "      <td>1</td>\n",
              "      <td>3</td>\n",
              "      <td>0</td>\n",
              "      <td>0</td>\n",
              "      <td>2</td>\n",
              "      <td>1</td>\n",
              "      <td>6</td>\n",
              "      <td>1</td>\n",
              "      <td>0</td>\n",
              "      <td>26</td>\n",
              "      <td>0</td>\n",
              "      <td>1</td>\n",
              "      <td>8</td>\n",
              "      <td>18</td>\n",
              "      <td>16</td>\n",
              "      <td>287</td>\n",
              "      <td>8</td>\n",
              "      <td>0</td>\n",
              "    </tr>\n",
              "  </tbody>\n",
              "</table>\n",
              "</div>"
            ],
            "text/plain": [
              "   age  job  marital  education  ...  cons.conf.idx  euribor3m  nr.employed  y\n",
              "0   39    3        1          0  ...             16        287            8  0\n",
              "1   40    7        1          3  ...             16        287            8  0\n",
              "2   20    7        1          3  ...             16        287            8  0\n",
              "3   23    0        1          1  ...             16        287            8  0\n",
              "4   39    7        1          3  ...             16        287            8  0\n",
              "\n",
              "[5 rows x 20 columns]"
            ]
          },
          "metadata": {
            "tags": []
          },
          "execution_count": 12
        }
      ]
    },
    {
      "cell_type": "code",
      "metadata": {
        "colab": {
          "base_uri": "https://localhost:8080/",
          "height": 350
        },
        "id": "teyHjwkdhzej",
        "outputId": "d448b518-70c8-49af-9ce8-a93aaed7a348"
      },
      "source": [
        "#imbalance\r\n",
        "sns.countplot(bank1['y'])\r\n",
        "\r\n",
        "imb = bank1['y'].value_counts()\r\n",
        "print ('ratio yes to no: ', round(imb[1]/(imb[0]+imb[1])*100,2))"
      ],
      "execution_count": 13,
      "outputs": [
        {
          "output_type": "stream",
          "text": [
            "ratio yes to no:  11.27\n"
          ],
          "name": "stdout"
        },
        {
          "output_type": "stream",
          "text": [
            "/usr/local/lib/python3.6/dist-packages/seaborn/_decorators.py:43: FutureWarning: Pass the following variable as a keyword arg: x. From version 0.12, the only valid positional argument will be `data`, and passing other arguments without an explicit keyword will result in an error or misinterpretation.\n",
            "  FutureWarning\n"
          ],
          "name": "stderr"
        },
        {
          "output_type": "display_data",
          "data": {
            "image/png": "[encoded data removed]",
            "text/plain": [
              "<Figure size 432x288 with 1 Axes>"
            ]
          },
          "metadata": {
            "tags": [],
            "needs_background": "light"
          }
        }
      ]
    },
    {
      "cell_type": "code",
      "metadata": {
        "colab": {
          "base_uri": "https://localhost:8080/"
        },
        "id": "xb8k8CNDfVnt",
        "outputId": "704b147b-a7d2-4187-89cb-fff45c5615a9"
      },
      "source": [
        "X_train, X_test, y_train, y_test = train_test_split(bank1[features], bank1[outcome], test_size = 0.2, random_state = 50, stratify = bank1[outcome])\r\n",
        "\r\n",
        "strf = y_train.value_counts()\r\n",
        "# stratification\r\n",
        "print(strf[1]/(strf[0]+strf[1]))"
      ],
      "execution_count": 21,
      "outputs": [
        {
          "output_type": "stream",
          "text": [
            "0.11198786039453718\n"
          ],
          "name": "stdout"
        }
      ]
    },
    {
      "cell_type": "code",
      "metadata": {
        "colab": {
          "base_uri": "https://localhost:8080/"
        },
        "id": "p0fDSpjYjcxF",
        "outputId": "56d8eb94-21d9-4c41-8c88-13d7704b0eab"
      },
      "source": [
        "dummy = DummyClassifier(strategy='stratified')\r\n",
        "dummy.fit(X_train, y_train)\r\n",
        "\r\n",
        "results = dummy.predict(X_test)\r\n",
        "\r\n",
        "dummy_results = (acc(y_test, results))\r\n",
        "\r\n",
        "dummy_results\r\n"
      ],
      "execution_count": 26,
      "outputs": [
        {
          "output_type": "execute_result",
          "data": {
            "text/plain": [
              "0.7991017237193494"
            ]
          },
          "metadata": {
            "tags": []
          },
          "execution_count": 26
        }
      ]
    },
    {
      "cell_type": "code",
      "metadata": {
        "colab": {
          "base_uri": "https://localhost:8080/"
        },
        "id": "uNNkXWLtiS63",
        "outputId": "3c56d2cc-1efa-4e74-c464-bcf699b5345f"
      },
      "source": [
        "model = RandomForestClassifier(n_estimators= 100, max_depth = 3)\r\n",
        "model.fit(X_train, y_train)"
      ],
      "execution_count": 16,
      "outputs": [
        {
          "output_type": "execute_result",
          "data": {
            "text/plain": [
              "RandomForestClassifier(bootstrap=True, ccp_alpha=0.0, class_weight=None,\n",
              "                       criterion='gini', max_depth=3, max_features='auto',\n",
              "                       max_leaf_nodes=None, max_samples=None,\n",
              "                       min_impurity_decrease=0.0, min_impurity_split=None,\n",
              "                       min_samples_leaf=1, min_samples_split=2,\n",
              "                       min_weight_fraction_leaf=0.0, n_estimators=100,\n",
              "                       n_jobs=None, oob_score=False, random_state=None,\n",
              "                       verbose=0, warm_start=False)"
            ]
          },
          "metadata": {
            "tags": []
          },
          "execution_count": 16
        }
      ]
    },
    {
      "cell_type": "code",
      "metadata": {
        "id": "e22oHK73slue",
        "colab": {
          "base_uri": "https://localhost:8080/"
        },
        "outputId": "4e7d1123-fd7b-4cef-8e49-c7c497eb32e2"
      },
      "source": [
        "scores = cross_val_score(model, X_train, y_train, cv = 10, scoring = make_scorer(acc))\r\n",
        "score_avg = scores.mean()\r\n",
        "print(score_avg, dummy_results)\r\n"
      ],
      "execution_count": 92,
      "outputs": [
        {
          "output_type": "stream",
          "text": [
            "0.9003641881638847 0.7991017237193494\n"
          ],
          "name": "stdout"
        }
      ]
    },
    {
      "cell_type": "code",
      "metadata": {
        "id": "ztD0Pc4xcoW6"
      },
      "source": [
        "from sklearn.model_selection import GridSearchCV\r\n",
        "\r\n",
        "RF = RandomForestClassifier()\r\n",
        "params = [{'n_estimators': [i for i in range(100,1000,100)], \r\n",
        "           'max_depth':[i for i in range(3,9)]}]\r\n",
        "\r\n",
        "gr = GridSearchCV(RF,params, cv=10, n_jobs=1, verbose=0)\r\n",
        "\r\n",
        "res = gr.fit(X_train, y_train)\r\n",
        "\r\n",
        "#res.best_params_  {'max_depth': 8, 'n_estimators': 200} - takes very long to run"
      ],
      "execution_count": 59,
      "outputs": []
    },
    {
      "cell_type": "code",
      "metadata": {
        "colab": {
          "base_uri": "https://localhost:8080/"
        },
        "id": "KEFKLX7aG4dk",
        "outputId": "9cf2e438-c964-4c8c-a507-63a5b508770f"
      },
      "source": [
        "res.best_params_ \r\n",
        "\r\n",
        "model1 = RandomForestClassifier(n_estimators= 200, max_depth = 8)\r\n",
        "\r\n",
        "model1.fit(X_train,y_train)\r\n",
        "\r\n",
        "scores_opt = cross_val_score(model1, X_train, y_train, cv=10, scoring = make_scorer(acc))\r\n",
        "\r\n",
        "score_optimised = scores_opt.mean()\r\n",
        "\r\n",
        "score_optimised"
      ],
      "execution_count": 70,
      "outputs": [
        {
          "output_type": "execute_result",
          "data": {
            "text/plain": [
              "0.9012746585735965"
            ]
          },
          "metadata": {
            "tags": []
          },
          "execution_count": 70
        }
      ]
    },
    {
      "cell_type": "code",
      "metadata": {
        "colab": {
          "base_uri": "https://localhost:8080/",
          "height": 204
        },
        "id": "a4BkiJ_IerRg",
        "outputId": "cfcaa2e4-827b-4d0a-d0e2-f001d76851af"
      },
      "source": [
        "importances = model1.feature_importances_\r\n",
        "\r\n",
        "indices = np.argsort(importances)[::-1]\r\n",
        "\r\n",
        "top_feat = bank1.iloc[0:, indices[0:3]]\r\n",
        "\r\n",
        "top_feat.head()"
      ],
      "execution_count": 84,
      "outputs": [
        {
          "output_type": "execute_result",
          "data": {
            "text/html": [
              "<div>\n",
              "<style scoped>\n",
              "    .dataframe tbody tr th:only-of-type {\n",
              "        vertical-align: middle;\n",
              "    }\n",
              "\n",
              "    .dataframe tbody tr th {\n",
              "        vertical-align: top;\n",
              "    }\n",
              "\n",
              "    .dataframe thead th {\n",
              "        text-align: right;\n",
              "    }\n",
              "</style>\n",
              "<table border=\"1\" class=\"dataframe\">\n",
              "  <thead>\n",
              "    <tr style=\"text-align: right;\">\n",
              "      <th></th>\n",
              "      <th>nr.employed</th>\n",
              "      <th>euribor3m</th>\n",
              "      <th>pdays</th>\n",
              "    </tr>\n",
              "  </thead>\n",
              "  <tbody>\n",
              "    <tr>\n",
              "      <th>0</th>\n",
              "      <td>8</td>\n",
              "      <td>287</td>\n",
              "      <td>26</td>\n",
              "    </tr>\n",
              "    <tr>\n",
              "      <th>1</th>\n",
              "      <td>8</td>\n",
              "      <td>287</td>\n",
              "      <td>26</td>\n",
              "    </tr>\n",
              "    <tr>\n",
              "      <th>2</th>\n",
              "      <td>8</td>\n",
              "      <td>287</td>\n",
              "      <td>26</td>\n",
              "    </tr>\n",
              "    <tr>\n",
              "      <th>3</th>\n",
              "      <td>8</td>\n",
              "      <td>287</td>\n",
              "      <td>26</td>\n",
              "    </tr>\n",
              "    <tr>\n",
              "      <th>4</th>\n",
              "      <td>8</td>\n",
              "      <td>287</td>\n",
              "      <td>26</td>\n",
              "    </tr>\n",
              "  </tbody>\n",
              "</table>\n",
              "</div>"
            ],
            "text/plain": [
              "   nr.employed  euribor3m  pdays\n",
              "0            8        287     26\n",
              "1            8        287     26\n",
              "2            8        287     26\n",
              "3            8        287     26\n",
              "4            8        287     26"
            ]
          },
          "metadata": {
            "tags": []
          },
          "execution_count": 84
        }
      ]
    },
    {
      "cell_type": "markdown",
      "metadata": {
        "id": "eRt1wmBFh6xg"
      },
      "source": [
        "Lab"
      ]
    },
    {
      "cell_type": "code",
      "metadata": {
        "colab": {
          "base_uri": "https://localhost:8080/"
        },
        "id": "Ji3D--Gvh8n1",
        "outputId": "5553ff80-853c-4d6e-e575-3d20be568f0a"
      },
      "source": [
        "m1 = RandomForestClassifier(n_estimators= 100, max_depth = 3)\r\n",
        "\r\n",
        "m1.fit(X_train, y_train)\r\n",
        "\r\n",
        "r1 = m1.predict(X_test)\r\n",
        "\r\n",
        "perf = f1(y_test, r1)\r\n",
        "\r\n",
        "print(f1(y_test,results), perf)"
      ],
      "execution_count": 90,
      "outputs": [
        {
          "output_type": "stream",
          "text": [
            "0.10877759827679052 0.27860696517412936\n"
          ],
          "name": "stdout"
        }
      ]
    },
    {
      "cell_type": "code",
      "metadata": {
        "colab": {
          "base_uri": "https://localhost:8080/"
        },
        "id": "dIBoLnc3jkFL",
        "outputId": "2f00a333-ef6a-4f48-c9cd-5293e899c958"
      },
      "source": [
        "qX_train, qX_test, qy_train, qy_test = train_test_split(bank1[features], bank1[outcome], test_size = 0.2, random_state = 50, stratify = bank1[outcome])\r\n",
        "\r\n",
        "m2 = RandomForestClassifier(n_estimators=100, max_depth = 8, random_state= 60)\r\n",
        "\r\n",
        "s1 = cross_val_score(m2, qX_train, qy_train, cv = 10, scoring = make_scorer(f1))\r\n",
        "\r\n",
        "round(s1.mean(),2)"
      ],
      "execution_count": 100,
      "outputs": [
        {
          "output_type": "execute_result",
          "data": {
            "text/plain": [
              "0.33"
            ]
          },
          "metadata": {
            "tags": []
          },
          "execution_count": 100
        }
      ]
    },
    {
      "cell_type": "code",
      "metadata": {
        "colab": {
          "base_uri": "https://localhost:8080/"
        },
        "id": "lWChxa5WmnIe",
        "outputId": "5899224c-e543-4eb9-efe5-5418ff78e7d3"
      },
      "source": [
        "m3 = RandomForestClassifier(n_estimators=100, max_depth = 8, random_state= 60)\r\n",
        "m3.fit(qX_train, qy_train)\r\n",
        "\r\n",
        "s2 = m3.predict(qX_test)\r\n",
        "\r\n",
        "print(f1(qy_test,s2))"
      ],
      "execution_count": 103,
      "outputs": [
        {
          "output_type": "stream",
          "text": [
            "0.3542319749216301\n"
          ],
          "name": "stdout"
        }
      ]
    },
    {
      "cell_type": "code",
      "metadata": {
        "colab": {
          "base_uri": "https://localhost:8080/"
        },
        "id": "45XMfaXRnao6",
        "outputId": "6941ecc5-2dce-479d-d1bb-ce3d77ef2aae"
      },
      "source": [
        "m4 = RandomForestClassifier(n_estimators=750, max_depth = 6, random_state= 60)\r\n",
        "m4.fit(qX_train, qy_train)\r\n",
        "\r\n",
        "s3 = m4.predict(qX_test)\r\n",
        "\r\n",
        "i = np.argsort(m4.feature_importances_)[::-1]\r\n",
        "\r\n",
        "bank1.columns[i[0:3]]"
      ],
      "execution_count": 109,
      "outputs": [
        {
          "output_type": "execute_result",
          "data": {
            "text/plain": [
              "Index(['nr.employed', 'euribor3m', 'pdays'], dtype='object')"
            ]
          },
          "metadata": {
            "tags": []
          },
          "execution_count": 109
        }
      ]
    }
  ]
}