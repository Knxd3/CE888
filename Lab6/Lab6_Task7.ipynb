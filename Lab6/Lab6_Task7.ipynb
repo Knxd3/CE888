{
  "nbformat": 4,
  "nbformat_minor": 0,
  "metadata": {
    "colab": {
      "name": "Lab6_Task7.ipynb",
      "provenance": [],
      "collapsed_sections": [],
      "authorship_tag": "ABX9TyO4OE8U6GmYKoaZ3b2lbRnG",
      "include_colab_link": true
    },
    "kernelspec": {
      "name": "python3",
      "display_name": "Python 3"
    },
    "language_info": {
      "name": "python"
    }
  },
  "cells": [
    {
      "cell_type": "markdown",
      "metadata": {
        "id": "view-in-github",
        "colab_type": "text"
      },
      "source": [
        "<a href=\"https://colab.research.google.com/github/Knxd3/CE888/blob/main/Lab6/Lab6_Task7.ipynb\" target=\"_parent\"><img src=\"https://colab.research.google.com/assets/colab-badge.svg\" alt=\"Open In Colab\"/></a>"
      ]
    },
    {
      "cell_type": "code",
      "metadata": {
        "id": "bZt8U7wxoDeU"
      },
      "source": [
        "import numpy as np\n",
        "import pandas as pd\n",
        "import matplotlib.pyplot as plt\n",
        "from sklearn.preprocessing import scale\n"
      ],
      "execution_count": 2,
      "outputs": []
    },
    {
      "cell_type": "code",
      "metadata": {
        "colab": {
          "base_uri": "https://localhost:8080/",
          "height": 204
        },
        "id": "EVaTZa3QoNa6",
        "outputId": "de9cb6a4-0e31-4418-8756-37fbe663d601"
      },
      "source": [
        "df_1 = pd.read_csv('https://raw.githubusercontent.com/sagihaider/CE888_2021/main/Lab_6/Data/Country-data.csv')\n",
        "df_1.head(5)"
      ],
      "execution_count": 12,
      "outputs": [
        {
          "output_type": "execute_result",
          "data": {
            "text/html": [
              "<div>\n",
              "<style scoped>\n",
              "    .dataframe tbody tr th:only-of-type {\n",
              "        vertical-align: middle;\n",
              "    }\n",
              "\n",
              "    .dataframe tbody tr th {\n",
              "        vertical-align: top;\n",
              "    }\n",
              "\n",
              "    .dataframe thead th {\n",
              "        text-align: right;\n",
              "    }\n",
              "</style>\n",
              "<table border=\"1\" class=\"dataframe\">\n",
              "  <thead>\n",
              "    <tr style=\"text-align: right;\">\n",
              "      <th></th>\n",
              "      <th>country</th>\n",
              "      <th>child_mort</th>\n",
              "      <th>exports</th>\n",
              "      <th>health</th>\n",
              "      <th>imports</th>\n",
              "      <th>income</th>\n",
              "      <th>inflation</th>\n",
              "      <th>life_expec</th>\n",
              "      <th>total_fer</th>\n",
              "      <th>gdpp</th>\n",
              "    </tr>\n",
              "  </thead>\n",
              "  <tbody>\n",
              "    <tr>\n",
              "      <th>0</th>\n",
              "      <td>Afghanistan</td>\n",
              "      <td>90.2</td>\n",
              "      <td>10.0</td>\n",
              "      <td>7.58</td>\n",
              "      <td>44.9</td>\n",
              "      <td>1610</td>\n",
              "      <td>9.44</td>\n",
              "      <td>56.2</td>\n",
              "      <td>5.82</td>\n",
              "      <td>553</td>\n",
              "    </tr>\n",
              "    <tr>\n",
              "      <th>1</th>\n",
              "      <td>Albania</td>\n",
              "      <td>16.6</td>\n",
              "      <td>28.0</td>\n",
              "      <td>6.55</td>\n",
              "      <td>48.6</td>\n",
              "      <td>9930</td>\n",
              "      <td>4.49</td>\n",
              "      <td>76.3</td>\n",
              "      <td>1.65</td>\n",
              "      <td>4090</td>\n",
              "    </tr>\n",
              "    <tr>\n",
              "      <th>2</th>\n",
              "      <td>Algeria</td>\n",
              "      <td>27.3</td>\n",
              "      <td>38.4</td>\n",
              "      <td>4.17</td>\n",
              "      <td>31.4</td>\n",
              "      <td>12900</td>\n",
              "      <td>16.10</td>\n",
              "      <td>76.5</td>\n",
              "      <td>2.89</td>\n",
              "      <td>4460</td>\n",
              "    </tr>\n",
              "    <tr>\n",
              "      <th>3</th>\n",
              "      <td>Angola</td>\n",
              "      <td>119.0</td>\n",
              "      <td>62.3</td>\n",
              "      <td>2.85</td>\n",
              "      <td>42.9</td>\n",
              "      <td>5900</td>\n",
              "      <td>22.40</td>\n",
              "      <td>60.1</td>\n",
              "      <td>6.16</td>\n",
              "      <td>3530</td>\n",
              "    </tr>\n",
              "    <tr>\n",
              "      <th>4</th>\n",
              "      <td>Antigua and Barbuda</td>\n",
              "      <td>10.3</td>\n",
              "      <td>45.5</td>\n",
              "      <td>6.03</td>\n",
              "      <td>58.9</td>\n",
              "      <td>19100</td>\n",
              "      <td>1.44</td>\n",
              "      <td>76.8</td>\n",
              "      <td>2.13</td>\n",
              "      <td>12200</td>\n",
              "    </tr>\n",
              "  </tbody>\n",
              "</table>\n",
              "</div>"
            ],
            "text/plain": [
              "               country  child_mort  exports  ...  life_expec  total_fer   gdpp\n",
              "0          Afghanistan        90.2     10.0  ...        56.2       5.82    553\n",
              "1              Albania        16.6     28.0  ...        76.3       1.65   4090\n",
              "2              Algeria        27.3     38.4  ...        76.5       2.89   4460\n",
              "3               Angola       119.0     62.3  ...        60.1       6.16   3530\n",
              "4  Antigua and Barbuda        10.3     45.5  ...        76.8       2.13  12200\n",
              "\n",
              "[5 rows x 10 columns]"
            ]
          },
          "metadata": {
            "tags": []
          },
          "execution_count": 12
        }
      ]
    },
    {
      "cell_type": "code",
      "metadata": {
        "colab": {
          "base_uri": "https://localhost:8080/"
        },
        "id": "WINMgMcoSqDH",
        "outputId": "7a7468e7-aa77-4afa-abb3-59c2f6e6c726"
      },
      "source": [
        "# convert to z scale\n",
        "\n",
        "x = df_1.iloc[:,1:df_1.shape[1]].values\n",
        "x = scale(x)\n",
        "\n",
        "x"
      ],
      "execution_count": 47,
      "outputs": [
        {
          "output_type": "execute_result",
          "data": {
            "text/plain": [
              "array([[ 1.29153238, -1.13827979,  0.27908825, ..., -1.61909203,\n",
              "         1.90288227, -0.67917961],\n",
              "       [-0.5389489 , -0.47965843, -0.09701618, ...,  0.64786643,\n",
              "        -0.85997281, -0.48562324],\n",
              "       [-0.27283273, -0.09912164, -0.96607302, ...,  0.67042323,\n",
              "        -0.0384044 , -0.46537561],\n",
              "       ...,\n",
              "       [-0.37231541,  1.13030491,  0.0088773 , ...,  0.28695762,\n",
              "        -0.66120626, -0.63775406],\n",
              "       [ 0.44841668, -0.40647827, -0.59727159, ..., -0.34463279,\n",
              "         1.14094382, -0.63775406],\n",
              "       [ 1.11495062, -0.15034774, -0.33801514, ..., -2.09278484,\n",
              "         1.6246091 , -0.62954556]])"
            ]
          },
          "metadata": {
            "tags": []
          },
          "execution_count": 47
        }
      ]
    },
    {
      "cell_type": "code",
      "metadata": {
        "id": "f8-QiPzZyuGY"
      },
      "source": [
        "# use K-means because the number of clusters is given and the data is not extremely noisy\n",
        "\n",
        "from sklearn.cluster import KMeans\n",
        "\n",
        "m = KMeans(n_clusters = 3)\n",
        "pred_ = m.fit_predict(x)"
      ],
      "execution_count": 39,
      "outputs": []
    },
    {
      "cell_type": "code",
      "metadata": {
        "colab": {
          "base_uri": "https://localhost:8080/",
          "height": 312
        },
        "id": "6egsahu4zfmM",
        "outputId": "08e7d122-5de7-4517-e932-e006e5acd9f6"
      },
      "source": [
        "plt.scatter(x[pred_== 0 , 8], x[pred_ == 0, 2])\n",
        "plt.scatter(x[pred_== 1, 8], x[pred_ == 1, 2])\n",
        "plt.scatter(x[pred_ == 2,8], x[pred_ == 2, 2])\n",
        "plt.legend(['Under-Developing','Developed', 'Developing'])\n",
        "plt.xlabel('GDPP')\n",
        "plt.ylabel('Health')\n",
        "plt.title('Cluster by GDP per Person vs. Health')"
      ],
      "execution_count": 50,
      "outputs": [
        {
          "output_type": "execute_result",
          "data": {
            "text/plain": [
              "Text(0.5, 1.0, 'Cluster by GDP per Person vs. Health')"
            ]
          },
          "metadata": {
            "tags": []
          },
          "execution_count": 50
        },
        {
          "output_type": "display_data",
          "data": {
            "image/png": "[encoded data removed]",
            "text/plain": [
              "<Figure size 432x288 with 1 Axes>"
            ]
          },
          "metadata": {
            "tags": [],
            "needs_background": "light"
          }
        }
      ]
    },
    {
      "cell_type": "code",
      "metadata": {
        "colab": {
          "base_uri": "https://localhost:8080/"
        },
        "id": "qAJmYiRKT6Gh",
        "outputId": "68d4253a-91f9-46e4-a1aa-163fa6e3f086"
      },
      "source": [
        "print('Developed Countries \\n', df_1.iloc[pred_ == 1, 0])\n",
        "print('Developing Countries \\n', df_1.iloc[pred_ == 2, 0])\n",
        "print('Under-Developing Countries \\n', df_1.iloc[pred_ == 0, 0])"
      ],
      "execution_count": 49,
      "outputs": [
        {
          "output_type": "stream",
          "text": [
            "Developed Countries \n",
            " 7                 Australia\n",
            "8                   Austria\n",
            "11                  Bahrain\n",
            "15                  Belgium\n",
            "23                   Brunei\n",
            "29                   Canada\n",
            "42                   Cyprus\n",
            "43           Czech Republic\n",
            "44                  Denmark\n",
            "53                  Finland\n",
            "54                   France\n",
            "58                  Germany\n",
            "60                   Greece\n",
            "68                  Iceland\n",
            "73                  Ireland\n",
            "74                   Israel\n",
            "75                    Italy\n",
            "77                    Japan\n",
            "82                   Kuwait\n",
            "91               Luxembourg\n",
            "98                    Malta\n",
            "110             Netherlands\n",
            "111             New Zealand\n",
            "114                  Norway\n",
            "122                Portugal\n",
            "123                   Qatar\n",
            "133               Singapore\n",
            "134         Slovak Republic\n",
            "135                Slovenia\n",
            "138             South Korea\n",
            "139                   Spain\n",
            "144                  Sweden\n",
            "145             Switzerland\n",
            "157    United Arab Emirates\n",
            "158          United Kingdom\n",
            "159           United States\n",
            "Name: country, dtype: object\n",
            "Developing Countries \n",
            " 1                  Albania\n",
            "2                  Algeria\n",
            "4      Antigua and Barbuda\n",
            "5                Argentina\n",
            "6                  Armenia\n",
            "              ...         \n",
            "160                Uruguay\n",
            "161             Uzbekistan\n",
            "162                Vanuatu\n",
            "163              Venezuela\n",
            "164                Vietnam\n",
            "Name: country, Length: 84, dtype: object\n",
            "Under-Developing Countries \n",
            " 0                   Afghanistan\n",
            "3                        Angola\n",
            "17                        Benin\n",
            "21                     Botswana\n",
            "25                 Burkina Faso\n",
            "26                      Burundi\n",
            "28                     Cameroon\n",
            "31     Central African Republic\n",
            "32                         Chad\n",
            "36                      Comoros\n",
            "37             Congo, Dem. Rep.\n",
            "38                  Congo, Rep.\n",
            "40                Cote d'Ivoire\n",
            "49            Equatorial Guinea\n",
            "50                      Eritrea\n",
            "55                        Gabon\n",
            "56                       Gambia\n",
            "59                        Ghana\n",
            "63                       Guinea\n",
            "64                Guinea-Bissau\n",
            "66                        Haiti\n",
            "72                         Iraq\n",
            "80                        Kenya\n",
            "81                     Kiribati\n",
            "84                          Lao\n",
            "87                      Lesotho\n",
            "88                      Liberia\n",
            "93                   Madagascar\n",
            "94                       Malawi\n",
            "97                         Mali\n",
            "99                   Mauritania\n",
            "106                  Mozambique\n",
            "108                     Namibia\n",
            "112                       Niger\n",
            "113                     Nigeria\n",
            "116                    Pakistan\n",
            "126                      Rwanda\n",
            "129                     Senegal\n",
            "132                Sierra Leone\n",
            "137                South Africa\n",
            "142                       Sudan\n",
            "147                    Tanzania\n",
            "149                 Timor-Leste\n",
            "150                        Togo\n",
            "155                      Uganda\n",
            "165                       Yemen\n",
            "166                      Zambia\n",
            "Name: country, dtype: object\n"
          ],
          "name": "stdout"
        }
      ]
    }
  ]
}